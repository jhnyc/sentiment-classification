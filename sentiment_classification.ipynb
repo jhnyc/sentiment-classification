{
 "cells": [
  {
   "cell_type": "code",
   "execution_count": 1,
   "id": "acfad893",
   "metadata": {},
   "outputs": [],
   "source": [
    "import numpy as np\n",
    "import pandas as pd\n",
    "import matplotlib.pyplot as plt\n",
    "import seaborn as sns\n",
    "import plotly.express as px\n",
    "import re\n",
    "import pickle"
   ]
  },
  {
   "cell_type": "code",
   "execution_count": 2,
   "id": "2373ae05",
   "metadata": {},
   "outputs": [],
   "source": [
    "# default plot style\n",
    "plt.style.use('fivethirtyeight')\n",
    "sns.set(rc={'axes.facecolor':'#ebebeb', 'figure.facecolor':'#ebebeb'})\n",
    "\n",
    "# default pandas display options\n",
    "pd.set_option('display.max_columns',100)"
   ]
  },
  {
   "cell_type": "code",
   "execution_count": 3,
   "id": "d5b9a2a1",
   "metadata": {},
   "outputs": [],
   "source": [
    "# read in dataset\n",
    "df = pd.read_csv('180k_reviews.csv', index_col=False)"
   ]
  },
  {
   "cell_type": "code",
   "execution_count": 4,
   "id": "883d11ce",
   "metadata": {},
   "outputs": [
    {
     "data": {
      "text/html": [
       "<div>\n",
       "<style scoped>\n",
       "    .dataframe tbody tr th:only-of-type {\n",
       "        vertical-align: middle;\n",
       "    }\n",
       "\n",
       "    .dataframe tbody tr th {\n",
       "        vertical-align: top;\n",
       "    }\n",
       "\n",
       "    .dataframe thead th {\n",
       "        text-align: right;\n",
       "    }\n",
       "</style>\n",
       "<table border=\"1\" class=\"dataframe\">\n",
       "  <thead>\n",
       "    <tr style=\"text-align: right;\">\n",
       "      <th></th>\n",
       "      <th>shop</th>\n",
       "      <th>address</th>\n",
       "      <th>review_title</th>\n",
       "      <th>review</th>\n",
       "      <th>review_date</th>\n",
       "      <th>rating</th>\n",
       "      <th>view_count</th>\n",
       "      <th>reviewer</th>\n",
       "      <th>no_review</th>\n",
       "      <th>reviewer_grade</th>\n",
       "    </tr>\n",
       "  </thead>\n",
       "  <tbody>\n",
       "    <tr>\n",
       "      <th>0</th>\n",
       "      <td>樂湯雞麵館 (庇利金街)</td>\n",
       "      <td>佐敦庇利金街61號地舖</td>\n",
       "      <td>人氣醉豬手！必食！</td>\n",
       "      <td>今日出去買月餅，經過見到食砂鍋雞嘅，真係好耐冇食，人唔算多，就坐低幫襯下。這裏每張枱都有隔版...</td>\n",
       "      <td>2020-09-07</td>\n",
       "      <td>4.2</td>\n",
       "      <td>54 瀏覽</td>\n",
       "      <td>shadowcblog</td>\n",
       "      <td>536</td>\n",
       "      <td>等級4.0</td>\n",
       "    </tr>\n",
       "    <tr>\n",
       "      <th>1</th>\n",
       "      <td>Burger Joys (君悅居)</td>\n",
       "      <td>灣仔駱克道42-50號君悅居地下E舖</td>\n",
       "      <td>Happy American Meal</td>\n",
       "      <td>The place is not hard to locate as it is near ...</td>\n",
       "      <td>2016-08-18</td>\n",
       "      <td>3.6</td>\n",
       "      <td>154 瀏覽</td>\n",
       "      <td>charmaine728</td>\n",
       "      <td>252</td>\n",
       "      <td>等級4.0</td>\n",
       "    </tr>\n",
       "    <tr>\n",
       "      <th>2</th>\n",
       "      <td>肥姐小食店 Fei Jie</td>\n",
       "      <td>旺角登打士街55號地下4A號舖</td>\n",
       "      <td>一個字，爽</td>\n",
       "      <td>我一行經好景我一定買佢架墨魚，爽脆有口感，必食，生腸夠鮮，爽哧，紅腸也不能少、每次兩串，加埋...</td>\n",
       "      <td>2014-07-31</td>\n",
       "      <td>4.0</td>\n",
       "      <td>1054 瀏覽</td>\n",
       "      <td>kelly512</td>\n",
       "      <td>12</td>\n",
       "      <td>等級2.0</td>\n",
       "    </tr>\n",
       "    <tr>\n",
       "      <th>3</th>\n",
       "      <td>The Jockey</td>\n",
       "      <td>跑馬地黃泥涌道33號</td>\n",
       "      <td>Unexpectedly delicious food in a pub! =]</td>\n",
       "      <td>不嬲鐘意四處試新野既我，今次揀左跑馬地的The Jockey 和朋友「飯聚」。餐廳位於馬場的...</td>\n",
       "      <td>2014-06-20</td>\n",
       "      <td>4.2</td>\n",
       "      <td>1991 瀏覽</td>\n",
       "      <td>王貓</td>\n",
       "      <td>76</td>\n",
       "      <td>等級3.0</td>\n",
       "    </tr>\n",
       "    <tr>\n",
       "      <th>4</th>\n",
       "      <td>Lockeroom Dining (朗晴坊)</td>\n",
       "      <td>旺角砵蘭街215號朗晴坊8樓</td>\n",
       "      <td>欣賞餐廳心思 ⚽️迷·美食家都啱😋</td>\n",
       "      <td>如果你身邊有球迷，一定聽過呢間餐廳。已經不是第一次到這裡吃飯，但每次都覺得很滿足，因為無論佈...</td>\n",
       "      <td>2020-07-12</td>\n",
       "      <td>5.0</td>\n",
       "      <td>60 瀏覽</td>\n",
       "      <td>cinskyblue</td>\n",
       "      <td>287</td>\n",
       "      <td>等級4.0</td>\n",
       "    </tr>\n",
       "  </tbody>\n",
       "</table>\n",
       "</div>"
      ],
      "text/plain": [
       "                     shop             address  \\\n",
       "0            樂湯雞麵館 (庇利金街)         佐敦庇利金街61號地舖   \n",
       "1       Burger Joys (君悅居)  灣仔駱克道42-50號君悅居地下E舖   \n",
       "2           肥姐小食店 Fei Jie     旺角登打士街55號地下4A號舖   \n",
       "3              The Jockey          跑馬地黃泥涌道33號   \n",
       "4  Lockeroom Dining (朗晴坊)      旺角砵蘭街215號朗晴坊8樓   \n",
       "\n",
       "                               review_title  \\\n",
       "0                                 人氣醉豬手！必食！   \n",
       "1                       Happy American Meal   \n",
       "2                                     一個字，爽   \n",
       "3  Unexpectedly delicious food in a pub! =]   \n",
       "4                         欣賞餐廳心思 ⚽️迷·美食家都啱😋   \n",
       "\n",
       "                                              review review_date  rating  \\\n",
       "0  今日出去買月餅，經過見到食砂鍋雞嘅，真係好耐冇食，人唔算多，就坐低幫襯下。這裏每張枱都有隔版...  2020-09-07     4.2   \n",
       "1  The place is not hard to locate as it is near ...  2016-08-18     3.6   \n",
       "2  我一行經好景我一定買佢架墨魚，爽脆有口感，必食，生腸夠鮮，爽哧，紅腸也不能少、每次兩串，加埋...  2014-07-31     4.0   \n",
       "3  不嬲鐘意四處試新野既我，今次揀左跑馬地的The Jockey 和朋友「飯聚」。餐廳位於馬場的...  2014-06-20     4.2   \n",
       "4  如果你身邊有球迷，一定聽過呢間餐廳。已經不是第一次到這裡吃飯，但每次都覺得很滿足，因為無論佈...  2020-07-12     5.0   \n",
       "\n",
       "  view_count      reviewer no_review reviewer_grade  \n",
       "0      54 瀏覽   shadowcblog       536          等級4.0  \n",
       "1     154 瀏覽  charmaine728       252          等級4.0  \n",
       "2    1054 瀏覽      kelly512        12          等級2.0  \n",
       "3    1991 瀏覽            王貓        76          等級3.0  \n",
       "4      60 瀏覽    cinskyblue       287          等級4.0  "
      ]
     },
     "execution_count": 4,
     "metadata": {},
     "output_type": "execute_result"
    }
   ],
   "source": [
    "df.head()"
   ]
  },
  {
   "cell_type": "markdown",
   "id": "1096bb76-0d7b-48a9-abbd-9e836db348bf",
   "metadata": {},
   "source": [
    "## Data preprocessing & text cleaning"
   ]
  },
  {
   "cell_type": "code",
   "execution_count": 5,
   "id": "e787b537",
   "metadata": {},
   "outputs": [
    {
     "name": "stdout",
     "output_type": "stream",
     "text": [
      "<class 'pandas.core.frame.DataFrame'>\n",
      "RangeIndex: 180000 entries, 0 to 179999\n",
      "Data columns (total 10 columns):\n",
      " #   Column          Non-Null Count   Dtype  \n",
      "---  ------          --------------   -----  \n",
      " 0   shop            180000 non-null  object \n",
      " 1   address         180000 non-null  object \n",
      " 2   review_title    180000 non-null  object \n",
      " 3   review          180000 non-null  object \n",
      " 4   review_date     179915 non-null  object \n",
      " 5   rating          180000 non-null  float64\n",
      " 6   view_count      180000 non-null  object \n",
      " 7   reviewer        180000 non-null  object \n",
      " 8   no_review       180000 non-null  object \n",
      " 9   reviewer_grade  180000 non-null  object \n",
      "dtypes: float64(1), object(9)\n",
      "memory usage: 13.7+ MB\n"
     ]
    }
   ],
   "source": [
    "df.info()"
   ]
  },
  {
   "cell_type": "code",
   "execution_count": 6,
   "id": "0dabb28d-dcb0-4889-aa39-fc0b888cd18c",
   "metadata": {},
   "outputs": [],
   "source": [
    "# drop na\n",
    "df.dropna(inplace=True)\n",
    "df.reset_index(drop=True, inplace=True)\n",
    "\n",
    "# convert date string to datetime object\n",
    "df.review_date = pd.to_datetime(df['review_date'], errors='coerce')\n",
    "\n",
    "# convert rating string to numeric\n",
    "df.rating = df.rating.astype(float)\n",
    "\n",
    "# extract numeric view count\n",
    "df.view_count = df.view_count.apply(lambda x: ''.join([i for i in x if i.isdigit()]))\n",
    "df.view_count = pd.to_numeric(df.view_count, errors='coerce')\n",
    "\n",
    "# convert review count to int\n",
    "def review_count(review):\n",
    "    if 'k' in review.lower():\n",
    "        return float(review[:review.find('k')])*1000\n",
    "    else:\n",
    "        return float(''.join([i for i in review if i.isdigit()]))\n",
    "        \n",
    "df.no_review = df.no_review.apply(review_count)\n",
    "\n",
    "# extract numeric reviewer grade\n",
    "# grade 0 being non-member\n",
    "df.reviewer_grade = df.reviewer_grade.str.replace('等級','').replace('(非會員)',0)\n",
    "df.reviewer_grade = df.reviewer_grade.astype(float)\n"
   ]
  },
  {
   "cell_type": "code",
   "execution_count": 7,
   "id": "1c0d280a-52af-4128-9a58-31a32700c409",
   "metadata": {},
   "outputs": [],
   "source": [
    "# remove all punctuations (including chinese punctuations) in a string\n",
    "def remove_punctuation(string):\n",
    "    chin_punc = '！？｡＂＃＄％＆＇（）＊＋，－／：；＜＝＞＠［＼］＾＿_——｀｛｜｝～｟｠｢｣､、〃》「」『』【】〔〕〖〗〘〙〚〛〜〝〞〟〰〾〿–—‘’‛“”„‟…‧﹏.'\n",
    "    output = re.sub(r'[^\\w\\s]','',string)\n",
    "    output = \"\".join([i for i in output if i not in chin_punc])\n",
    "    return output\n"
   ]
  },
  {
   "cell_type": "code",
   "execution_count": 8,
   "id": "dfc544f4",
   "metadata": {},
   "outputs": [],
   "source": [
    "import emoji\n",
    "\n",
    "# the use of emoji tells a lot about the sentiment of the reviewer\n",
    "def encode_emoji(string, emoji_list=list(emoji.UNICODE_EMOJI['en'].keys())):\n",
    "    for i in emoji_list:\n",
    "        if i in string:\n",
    "            string = string.replace(i, f' emoji_{emoji_list.index(i)} ')\n",
    "    return string\n",
    "     "
   ]
  },
  {
   "cell_type": "code",
   "execution_count": 9,
   "id": "935e6ebf",
   "metadata": {},
   "outputs": [],
   "source": [
    "# HK people tend to use both Eng & Chin in their conversation \n",
    "# we can't just loop over every character in the string to remove eng words\n",
    "# need to split eng text from chin\n",
    "def split_word(string): \n",
    "    regex = r\"[\\u4e00-\\ufaff]|emoji+\\_*[0-9]*|[0-9]+|[a-zA-Z]+\\'*[a-z]*\"\n",
    "    matches = re.findall(regex, string, re.UNICODE)\n",
    "    return matches\n"
   ]
  },
  {
   "cell_type": "code",
   "execution_count": 10,
   "id": "da13dce6-6899-4738-a4c9-7313d96081e3",
   "metadata": {},
   "outputs": [],
   "source": [
    "# packaging every text cleaning function together in one function\n",
    "def preprocess(string):\n",
    "    if not pd.isna(string):\n",
    "        output = string.lower()\n",
    "        output = remove_punctuation(output)\n",
    "        output = encode_emoji(output)\n",
    "        return output\n",
    "\n",
    "\n",
    "# clean review title and review text\n",
    "df['review_title_clean'] = df['review_title'].apply(preprocess) \n",
    "df['review_clean'] = df['review'].apply(preprocess)\n"
   ]
  },
  {
   "cell_type": "markdown",
   "id": "1970db7f-6be1-4e24-9929-ba298e4daea8",
   "metadata": {},
   "source": [
    "## EDA"
   ]
  },
  {
   "cell_type": "code",
   "execution_count": 11,
   "id": "c80c39ea-f351-42e6-a59f-9e17bcafaa10",
   "metadata": {},
   "outputs": [
    {
     "data": {
      "text/html": [
       "<div>\n",
       "<style scoped>\n",
       "    .dataframe tbody tr th:only-of-type {\n",
       "        vertical-align: middle;\n",
       "    }\n",
       "\n",
       "    .dataframe tbody tr th {\n",
       "        vertical-align: top;\n",
       "    }\n",
       "\n",
       "    .dataframe thead th {\n",
       "        text-align: right;\n",
       "    }\n",
       "</style>\n",
       "<table border=\"1\" class=\"dataframe\">\n",
       "  <thead>\n",
       "    <tr style=\"text-align: right;\">\n",
       "      <th></th>\n",
       "      <th>rating</th>\n",
       "      <th>view_count</th>\n",
       "      <th>no_review</th>\n",
       "      <th>reviewer_grade</th>\n",
       "    </tr>\n",
       "  </thead>\n",
       "  <tbody>\n",
       "    <tr>\n",
       "      <th>count</th>\n",
       "      <td>179915.000000</td>\n",
       "      <td>179915.000000</td>\n",
       "      <td>179915.000000</td>\n",
       "      <td>179915.000000</td>\n",
       "    </tr>\n",
       "    <tr>\n",
       "      <th>mean</th>\n",
       "      <td>3.074261</td>\n",
       "      <td>680.892405</td>\n",
       "      <td>232.576128</td>\n",
       "      <td>2.768452</td>\n",
       "    </tr>\n",
       "    <tr>\n",
       "      <th>std</th>\n",
       "      <td>1.085909</td>\n",
       "      <td>1495.675801</td>\n",
       "      <td>611.341139</td>\n",
       "      <td>1.272365</td>\n",
       "    </tr>\n",
       "    <tr>\n",
       "      <th>min</th>\n",
       "      <td>1.000000</td>\n",
       "      <td>0.000000</td>\n",
       "      <td>0.000000</td>\n",
       "      <td>0.000000</td>\n",
       "    </tr>\n",
       "    <tr>\n",
       "      <th>25%</th>\n",
       "      <td>2.200000</td>\n",
       "      <td>73.000000</td>\n",
       "      <td>5.000000</td>\n",
       "      <td>2.000000</td>\n",
       "    </tr>\n",
       "    <tr>\n",
       "      <th>50%</th>\n",
       "      <td>3.200000</td>\n",
       "      <td>262.000000</td>\n",
       "      <td>59.000000</td>\n",
       "      <td>3.000000</td>\n",
       "    </tr>\n",
       "    <tr>\n",
       "      <th>75%</th>\n",
       "      <td>4.000000</td>\n",
       "      <td>706.000000</td>\n",
       "      <td>200.000000</td>\n",
       "      <td>4.000000</td>\n",
       "    </tr>\n",
       "    <tr>\n",
       "      <th>max</th>\n",
       "      <td>5.000000</td>\n",
       "      <td>106789.000000</td>\n",
       "      <td>7000.000000</td>\n",
       "      <td>8.000000</td>\n",
       "    </tr>\n",
       "  </tbody>\n",
       "</table>\n",
       "</div>"
      ],
      "text/plain": [
       "              rating     view_count      no_review  reviewer_grade\n",
       "count  179915.000000  179915.000000  179915.000000   179915.000000\n",
       "mean        3.074261     680.892405     232.576128        2.768452\n",
       "std         1.085909    1495.675801     611.341139        1.272365\n",
       "min         1.000000       0.000000       0.000000        0.000000\n",
       "25%         2.200000      73.000000       5.000000        2.000000\n",
       "50%         3.200000     262.000000      59.000000        3.000000\n",
       "75%         4.000000     706.000000     200.000000        4.000000\n",
       "max         5.000000  106789.000000    7000.000000        8.000000"
      ]
     },
     "execution_count": 11,
     "metadata": {},
     "output_type": "execute_result"
    }
   ],
   "source": [
    "df.describe()"
   ]
  },
  {
   "cell_type": "markdown",
   "id": "3d269f72",
   "metadata": {},
   "source": [
    "### Review rating"
   ]
  },
  {
   "cell_type": "code",
   "execution_count": 12,
   "id": "f5a2ada4-2fc8-4084-849e-bf157f4b999b",
   "metadata": {
    "tags": []
   },
   "outputs": [
    {
     "data": {
      "image/png": "[encoded data removed]",
      "text/plain": [
       "<Figure size 432x288 with 1 Axes>"
      ]
     },
     "metadata": {},
     "output_type": "display_data"
    }
   ],
   "source": [
    "# rating \n",
    "sns.histplot(df['rating'],bins=15,color='#008fd5')\n",
    "plt.title('rating')\n",
    "plt.xlabel('rating')\n",
    "plt.show()"
   ]
  },
  {
   "cell_type": "code",
   "execution_count": 13,
   "id": "28330b4a-13c0-4142-a294-e088e997dced",
   "metadata": {},
   "outputs": [],
   "source": [
    "# convert numerical rating scores into 3 classes - Negative, Neutral and Positive\n",
    "\n",
    "def get_sentiment(rating):\n",
    "    if rating <= 2.5:\n",
    "        return 'Negative'\n",
    "    elif 2.5<rating<=3.5:\n",
    "        return 'Neutral'\n",
    "    elif rating>3.5:\n",
    "        return 'Positive'\n",
    "        \n",
    "df['sentiment'] = df['rating'].apply(get_sentiment)"
   ]
  },
  {
   "cell_type": "code",
   "execution_count": 14,
   "id": "7c6cf19f-2dc7-4fff-8997-3b49ab8718ea",
   "metadata": {},
   "outputs": [
    {
     "name": "stderr",
     "output_type": "stream",
     "text": [
      "/Users/Johnny/miniforge3/lib/python3.9/site-packages/seaborn/_decorators.py:36: FutureWarning: Pass the following variable as a keyword arg: x. From version 0.12, the only valid positional argument will be `data`, and passing other arguments without an explicit keyword will result in an error or misinterpretation.\n",
      "  warnings.warn(\n"
     ]
    },
    {
     "data": {
      "image/png": "[encoded data removed]",
      "text/plain": [
       "<Figure size 432x288 with 1 Axes>"
      ]
     },
     "metadata": {},
     "output_type": "display_data"
    }
   ],
   "source": [
    "# plot\n",
    "sns.countplot(df['sentiment'])\n",
    "plt.show()"
   ]
  },
  {
   "cell_type": "markdown",
   "id": "90ef2e8f",
   "metadata": {},
   "source": [
    "A significant portion of the reviewers are satisfied customers. People who are happy with their experience are more likely to leave a review than dissatisfied ones."
   ]
  },
  {
   "cell_type": "markdown",
   "id": "3d269f72",
   "metadata": {},
   "source": [
    "### Review view count"
   ]
  },
  {
   "cell_type": "code",
   "execution_count": 15,
   "id": "f5a2ada4-2fc8-4084-849e-bf157f4b999b",
   "metadata": {
    "tags": []
   },
   "outputs": [
    {
     "data": {
      "image/png": "[encoded data removed]",
      "text/plain": [
       "<Figure size 432x288 with 1 Axes>"
      ]
     },
     "metadata": {},
     "output_type": "display_data"
    }
   ],
   "source": [
    "# view count per review \n",
    "sns.histplot(df['view_count'],bins=50,color='#008fd5')\n",
    "plt.title('view_count')\n",
    "plt.xlabel('view_count')\n",
    "plt.show()"
   ]
  },
  {
   "cell_type": "code",
   "execution_count": 16,
   "id": "66359f84",
   "metadata": {},
   "outputs": [
    {
     "name": "stderr",
     "output_type": "stream",
     "text": [
      "/Users/Johnny/miniforge3/lib/python3.9/site-packages/seaborn/_decorators.py:36: FutureWarning: Pass the following variable as a keyword arg: x. From version 0.12, the only valid positional argument will be `data`, and passing other arguments without an explicit keyword will result in an error or misinterpretation.\n",
      "  warnings.warn(\n"
     ]
    },
    {
     "data": {
      "image/png": "[encoded data removed]",
      "text/plain": [
       "<Figure size 432x288 with 1 Axes>"
      ]
     },
     "metadata": {},
     "output_type": "display_data"
    }
   ],
   "source": [
    "sns.violinplot(df['view_count'], color='#008fd5')\n",
    "plt.show()"
   ]
  },
  {
   "cell_type": "markdown",
   "id": "54858f09",
   "metadata": {},
   "source": [
    "### Number of reviews per user"
   ]
  },
  {
   "cell_type": "code",
   "execution_count": 17,
   "id": "f5a2ada4-2fc8-4084-849e-bf157f4b999b",
   "metadata": {
    "tags": []
   },
   "outputs": [
    {
     "data": {
      "image/png": "[encoded data removed]",
      "text/plain": [
       "<Figure size 432x288 with 1 Axes>"
      ]
     },
     "metadata": {},
     "output_type": "display_data"
    }
   ],
   "source": [
    "# review count per user \n",
    "sns.histplot(df['no_review'], bins=50, color='#008fd5') \n",
    "plt.title('no_review')\n",
    "plt.xlabel('no_review')\n",
    "plt.show()"
   ]
  },
  {
   "cell_type": "code",
   "execution_count": 18,
   "id": "3d55869c",
   "metadata": {},
   "outputs": [
    {
     "data": {
      "text/plain": [
       "7000.0"
      ]
     },
     "execution_count": 18,
     "metadata": {},
     "output_type": "execute_result"
    }
   ],
   "source": [
    "# max review by user\n",
    "df['no_review'].max()"
   ]
  },
  {
   "cell_type": "markdown",
   "id": "be9dbebd",
   "metadata": {},
   "source": [
    "The craziest user has left 7,000 reviews!"
   ]
  },
  {
   "cell_type": "markdown",
   "id": "3d269f72",
   "metadata": {},
   "source": [
    "### Title & review length"
   ]
  },
  {
   "cell_type": "code",
   "execution_count": 19,
   "id": "2ab8953f",
   "metadata": {},
   "outputs": [],
   "source": [
    "# title & review length -> number of chinese characters & english words\n",
    "df['title_length'] = df['review_title'].apply(lambda x: len(split_word(x)))\n",
    "df['review_length'] = df['review'].apply(lambda x: len(split_word(x)))"
   ]
  },
  {
   "cell_type": "code",
   "execution_count": 20,
   "id": "f5a2ada4-2fc8-4084-849e-bf157f4b999b",
   "metadata": {
    "tags": []
   },
   "outputs": [
    {
     "data": {
      "image/png": "[encoded data removed]",
      "text/plain": [
       "<Figure size 864x360 with 2 Axes>"
      ]
     },
     "metadata": {},
     "output_type": "display_data"
    }
   ],
   "source": [
    "# title length \n",
    "fig, ax = plt.subplots(1,2, figsize=(12,5))\n",
    "sns.histplot(df['title_length'], bins=30, color='#008fd5', ax=ax[0])\n",
    "sns.histplot(df['review_length'], bins=30, color='#008fd5', ax=ax[1])\n",
    "plt.show()"
   ]
  },
  {
   "cell_type": "code",
   "execution_count": 21,
   "id": "4b1ff936",
   "metadata": {},
   "outputs": [
    {
     "data": {
      "image/png": "[encoded data removed]",
      "text/plain": [
       "<Figure size 432x432 with 3 Axes>"
      ]
     },
     "metadata": {},
     "output_type": "display_data"
    }
   ],
   "source": [
    "sns.jointplot(x=df['review_length'], y=df['rating'],kind=\"hex\", color='#008fd5')\n",
    "plt.show()\n"
   ]
  },
  {
   "cell_type": "markdown",
   "id": "6d910012",
   "metadata": {},
   "source": [
    "### Time distribution"
   ]
  },
  {
   "cell_type": "code",
   "execution_count": 22,
   "id": "7803c0aa",
   "metadata": {},
   "outputs": [
    {
     "data": {
      "image/png": "[encoded data removed]",
      "text/plain": [
       "<Figure size 432x288 with 1 Axes>"
      ]
     },
     "metadata": {},
     "output_type": "display_data"
    }
   ],
   "source": [
    "df['year'] = df['review_date'].apply(lambda x: x.year)\n",
    "grouped = df.groupby('year').agg({'review':'count'})\n",
    "\n",
    "# plot\n",
    "sns.lineplot(x=grouped.index, y=grouped.review, color='#008fd5')\n",
    "plt.show()"
   ]
  },
  {
   "cell_type": "markdown",
   "id": "90e26565",
   "metadata": {},
   "source": [
    "There is a noticeable drop in 2020, very likely due to the outbreak of the corona virus."
   ]
  },
  {
   "cell_type": "markdown",
   "id": "b0952fa8",
   "metadata": {},
   "source": [
    "### Emoji usage\n",
    "What are the pattern of usage of Emoji? Which Emojis are the most used?"
   ]
  },
  {
   "cell_type": "code",
   "execution_count": 23,
   "id": "c21aa726",
   "metadata": {},
   "outputs": [],
   "source": [
    "# function to extract all emoji from text\n",
    "def extract_emoji(text):\n",
    "    if not pd.isna(text):\n",
    "        split_text = emoji.get_emoji_regexp().split(text)\n",
    "        emojis = [i for i in split_text if i in emoji.UNICODE_EMOJI['en']]\n",
    "        return emojis\n",
    "\n",
    "df['review_emoji'] = df['review'].apply(extract_emoji)"
   ]
  },
  {
   "cell_type": "code",
   "execution_count": 24,
   "id": "22d1d327",
   "metadata": {},
   "outputs": [],
   "source": [
    "# get emoji count\n",
    "df['review_emoji_count'] = df.review_emoji.apply(len)"
   ]
  },
  {
   "cell_type": "code",
   "execution_count": 25,
   "id": "b72c40ec",
   "metadata": {},
   "outputs": [
    {
     "data": {
      "image/png": "[encoded data removed]",
      "text/plain": [
       "<Figure size 432x288 with 1 Axes>"
      ]
     },
     "metadata": {},
     "output_type": "display_data"
    }
   ],
   "source": [
    "# plot\n",
    "sns.histplot(df['review_emoji_count'],bins=50, color='#008fd5')\n",
    "plt.show()\n"
   ]
  },
  {
   "cell_type": "code",
   "execution_count": 26,
   "id": "b1adcfab",
   "metadata": {},
   "outputs": [
    {
     "name": "stderr",
     "output_type": "stream",
     "text": [
      "/Users/Johnny/miniforge3/lib/python3.9/site-packages/seaborn/_decorators.py:36: FutureWarning: Pass the following variable as a keyword arg: x. From version 0.12, the only valid positional argument will be `data`, and passing other arguments without an explicit keyword will result in an error or misinterpretation.\n",
      "  warnings.warn(\n"
     ]
    },
    {
     "data": {
      "image/png": "[encoded data removed]",
      "text/plain": [
       "<Figure size 864x360 with 2 Axes>"
      ]
     },
     "metadata": {},
     "output_type": "display_data"
    }
   ],
   "source": [
    "# emoji count given there's emoji in the review\n",
    "emoji_count = df[df['review_emoji_count']>0]['review_emoji_count']\n",
    "\n",
    "# plot\n",
    "fig, ax = plt.subplots(1,2,figsize=(12,5), sharey=False)\n",
    "sns.histplot(df['review_emoji_count'], bins=50, color='#008fd5', ax=ax[0]).set_title('All emoji count').set_x\n",
    "ax[0].set_xlabel('')\n",
    "sns.boxplot(emoji_count, color='#008fd5',linewidth=2, ax=ax[1]).set_title('Reviews with emoji')\n",
    "ax[1].set_xlabel('')\n",
    "plt.show()"
   ]
  },
  {
   "cell_type": "markdown",
   "id": "99a2ae6a",
   "metadata": {},
   "source": [
    "Most reviews do not contain a single Emoji. And for the reviews that used Emoji, most only used a few of them. "
   ]
  },
  {
   "cell_type": "code",
   "execution_count": 27,
   "id": "63c7454c",
   "metadata": {},
   "outputs": [
    {
     "data": {
      "text/html": [
       "<style type=\"text/css\">\n",
       "#T_157d6_row0_col1 {\n",
       "  width: 10em;\n",
       "  height: 80%;\n",
       "  background: linear-gradient(90deg,#008fd5 100.0%, transparent 100.0%);\n",
       "}\n",
       "#T_157d6_row1_col1 {\n",
       "  width: 10em;\n",
       "  height: 80%;\n",
       "  background: linear-gradient(90deg,#008fd5 89.8%, transparent 89.8%);\n",
       "}\n",
       "#T_157d6_row2_col1 {\n",
       "  width: 10em;\n",
       "  height: 80%;\n",
       "  background: linear-gradient(90deg,#008fd5 69.5%, transparent 69.5%);\n",
       "}\n",
       "#T_157d6_row3_col1 {\n",
       "  width: 10em;\n",
       "  height: 80%;\n",
       "  background: linear-gradient(90deg,#008fd5 46.9%, transparent 46.9%);\n",
       "}\n",
       "#T_157d6_row4_col1 {\n",
       "  width: 10em;\n",
       "  height: 80%;\n",
       "  background: linear-gradient(90deg,#008fd5 28.0%, transparent 28.0%);\n",
       "}\n",
       "#T_157d6_row5_col1 {\n",
       "  width: 10em;\n",
       "  height: 80%;\n",
       "  background: linear-gradient(90deg,#008fd5 26.4%, transparent 26.4%);\n",
       "}\n",
       "#T_157d6_row6_col1 {\n",
       "  width: 10em;\n",
       "  height: 80%;\n",
       "  background: linear-gradient(90deg,#008fd5 26.1%, transparent 26.1%);\n",
       "}\n",
       "#T_157d6_row7_col1 {\n",
       "  width: 10em;\n",
       "  height: 80%;\n",
       "  background: linear-gradient(90deg,#008fd5 15.7%, transparent 15.7%);\n",
       "}\n",
       "#T_157d6_row8_col1 {\n",
       "  width: 10em;\n",
       "  height: 80%;\n",
       "  background: linear-gradient(90deg,#008fd5 3.9%, transparent 3.9%);\n",
       "}\n",
       "#T_157d6_row9_col1 {\n",
       "  width: 10em;\n",
       "  height: 80%;\n",
       "}\n",
       "</style>\n",
       "<table id=\"T_157d6_\">\n",
       "  <thead>\n",
       "    <tr>\n",
       "      <th class=\"blank level0\" >&nbsp;</th>\n",
       "      <th class=\"col_heading level0 col0\" >emoji</th>\n",
       "      <th class=\"col_heading level0 col1\" >count</th>\n",
       "    </tr>\n",
       "  </thead>\n",
       "  <tbody>\n",
       "    <tr>\n",
       "      <th id=\"T_157d6_level0_row0\" class=\"row_heading level0 row0\" >0</th>\n",
       "      <td id=\"T_157d6_row0_col0\" class=\"data row0 col0\" >😋</td>\n",
       "      <td id=\"T_157d6_row0_col1\" class=\"data row0 col1\" >18150</td>\n",
       "    </tr>\n",
       "    <tr>\n",
       "      <th id=\"T_157d6_level0_row1\" class=\"row_heading level0 row1\" >1</th>\n",
       "      <td id=\"T_157d6_row1_col0\" class=\"data row1 col0\" >👍🏻</td>\n",
       "      <td id=\"T_157d6_row1_col1\" class=\"data row1 col1\" >16797</td>\n",
       "    </tr>\n",
       "    <tr>\n",
       "      <th id=\"T_157d6_level0_row2\" class=\"row_heading level0 row2\" >2</th>\n",
       "      <td id=\"T_157d6_row2_col0\" class=\"data row2 col0\" >😂</td>\n",
       "      <td id=\"T_157d6_row2_col1\" class=\"data row2 col1\" >14099</td>\n",
       "    </tr>\n",
       "    <tr>\n",
       "      <th id=\"T_157d6_level0_row3\" class=\"row_heading level0 row3\" >3</th>\n",
       "      <td id=\"T_157d6_row3_col0\" class=\"data row3 col0\" >😍</td>\n",
       "      <td id=\"T_157d6_row3_col1\" class=\"data row3 col1\" >11099</td>\n",
       "    </tr>\n",
       "    <tr>\n",
       "      <th id=\"T_157d6_level0_row4\" class=\"row_heading level0 row4\" >4</th>\n",
       "      <td id=\"T_157d6_row4_col0\" class=\"data row4 col0\" >🤤</td>\n",
       "      <td id=\"T_157d6_row4_col1\" class=\"data row4 col1\" >8577</td>\n",
       "    </tr>\n",
       "    <tr>\n",
       "      <th id=\"T_157d6_level0_row5\" class=\"row_heading level0 row5\" >5</th>\n",
       "      <td id=\"T_157d6_row5_col0\" class=\"data row5 col0\" >⭐</td>\n",
       "      <td id=\"T_157d6_row5_col1\" class=\"data row5 col1\" >8366</td>\n",
       "    </tr>\n",
       "    <tr>\n",
       "      <th id=\"T_157d6_level0_row6\" class=\"row_heading level0 row6\" >6</th>\n",
       "      <td id=\"T_157d6_row6_col0\" class=\"data row6 col0\" >🤣</td>\n",
       "      <td id=\"T_157d6_row6_col1\" class=\"data row6 col1\" >8331</td>\n",
       "    </tr>\n",
       "    <tr>\n",
       "      <th id=\"T_157d6_level0_row7\" class=\"row_heading level0 row7\" >7</th>\n",
       "      <td id=\"T_157d6_row7_col0\" class=\"data row7 col0\" >👍</td>\n",
       "      <td id=\"T_157d6_row7_col1\" class=\"data row7 col1\" >6950</td>\n",
       "    </tr>\n",
       "    <tr>\n",
       "      <th id=\"T_157d6_level0_row8\" class=\"row_heading level0 row8\" >8</th>\n",
       "      <td id=\"T_157d6_row8_col0\" class=\"data row8 col0\" >😆</td>\n",
       "      <td id=\"T_157d6_row8_col1\" class=\"data row8 col1\" >5380</td>\n",
       "    </tr>\n",
       "    <tr>\n",
       "      <th id=\"T_157d6_level0_row9\" class=\"row_heading level0 row9\" >9</th>\n",
       "      <td id=\"T_157d6_row9_col0\" class=\"data row9 col0\" >😡</td>\n",
       "      <td id=\"T_157d6_row9_col1\" class=\"data row9 col1\" >4859</td>\n",
       "    </tr>\n",
       "  </tbody>\n",
       "</table>\n"
      ],
      "text/plain": [
       "<pandas.io.formats.style.Styler at 0x2a45bd8b0>"
      ]
     },
     "execution_count": 27,
     "metadata": {},
     "output_type": "execute_result"
    }
   ],
   "source": [
    "# most often-used emojis\n",
    "all_emojis = [item for sublist in df['review_emoji'].to_list() for item in sublist]\n",
    "top_emojis = pd.Series(all_emojis).value_counts().head(10).reset_index()\n",
    "top_emojis.columns = ['emoji', 'count']\n",
    "\n",
    "# visualize\n",
    "top_emojis.style.bar(subset=['count'], color='#008fd5')\n"
   ]
  },
  {
   "cell_type": "code",
   "execution_count": 28,
   "id": "83f53fab",
   "metadata": {},
   "outputs": [
    {
     "data": {
      "image/png": "[encoded data removed]",
      "text/plain": [
       "<Figure size 648x288 with 1 Axes>"
      ]
     },
     "metadata": {},
     "output_type": "display_data"
    }
   ],
   "source": [
    "# how does the use of emoji relate to the rating?\n",
    "plt.figure(figsize=(9,4))\n",
    "sns.regplot(data=df[df['review_emoji_count'] > 0], x='review_emoji_count', y='rating', color='#008fd5', line_kws={\"color\": \"red\", \"linewidth\": 2})\n",
    "plt.xticks(rotation=45)\n",
    "plt.xlabel('no. of emoji')\n",
    "plt.ylabel('rating')\n",
    "plt.show()\n"
   ]
  },
  {
   "cell_type": "markdown",
   "id": "caa2c28f",
   "metadata": {},
   "source": [
    "Emoji is a direct way to convey the sentiment of the reviewer. Let's build a simple model to find the relative sentiment score of each emoji."
   ]
  },
  {
   "cell_type": "code",
   "execution_count": 29,
   "id": "af88da93",
   "metadata": {},
   "outputs": [],
   "source": [
    "from sklearn.feature_extraction.text import CountVectorizer\n",
    "\n",
    "df_emoji = df[df['review_emoji_count']>1]\n",
    "corpus = [\" \".join(i) for i in df_emoji['review_emoji'].to_list()]\n",
    "\n",
    "# specify min document frequency for the vectorizer so that uncommon emojis are discarded\n",
    "vectorizer = CountVectorizer(lowercase=False,analyzer = 'char',binary=True,min_df=100)\n",
    "X = vectorizer.fit_transform(corpus)\n",
    "y = df_emoji['rating'].values"
   ]
  },
  {
   "cell_type": "code",
   "execution_count": 30,
   "id": "6c549248",
   "metadata": {},
   "outputs": [
    {
     "data": {
      "text/plain": [
       "LinearRegression()"
      ]
     },
     "execution_count": 30,
     "metadata": {},
     "output_type": "execute_result"
    }
   ],
   "source": [
    "from sklearn.linear_model import LinearRegression\n",
    "from sklearn.metrics import mean_squared_error\n",
    "\n",
    "model = LinearRegression()\n",
    "model.fit(X, y)"
   ]
  },
  {
   "cell_type": "code",
   "execution_count": 31,
   "id": "6ffffa5d",
   "metadata": {},
   "outputs": [
    {
     "data": {
      "text/html": [
       "<div>\n",
       "<style scoped>\n",
       "    .dataframe tbody tr th:only-of-type {\n",
       "        vertical-align: middle;\n",
       "    }\n",
       "\n",
       "    .dataframe tbody tr th {\n",
       "        vertical-align: top;\n",
       "    }\n",
       "\n",
       "    .dataframe thead th {\n",
       "        text-align: right;\n",
       "    }\n",
       "</style>\n",
       "<table border=\"1\" class=\"dataframe\">\n",
       "  <thead>\n",
       "    <tr style=\"text-align: right;\">\n",
       "      <th></th>\n",
       "      <th>emoji</th>\n",
       "      <th>coef</th>\n",
       "    </tr>\n",
       "  </thead>\n",
       "  <tbody>\n",
       "    <tr>\n",
       "      <th>0</th>\n",
       "      <td>🇵</td>\n",
       "      <td>0.740693</td>\n",
       "    </tr>\n",
       "    <tr>\n",
       "      <th>1</th>\n",
       "      <td>👍</td>\n",
       "      <td>0.301067</td>\n",
       "    </tr>\n",
       "    <tr>\n",
       "      <th>2</th>\n",
       "      <td>🎂</td>\n",
       "      <td>0.269522</td>\n",
       "    </tr>\n",
       "    <tr>\n",
       "      <th>3</th>\n",
       "      <td>😍</td>\n",
       "      <td>0.251292</td>\n",
       "    </tr>\n",
       "    <tr>\n",
       "      <th>4</th>\n",
       "      <td>🏮</td>\n",
       "      <td>0.251098</td>\n",
       "    </tr>\n",
       "    <tr>\n",
       "      <th>307</th>\n",
       "      <td>😠</td>\n",
       "      <td>-0.631728</td>\n",
       "    </tr>\n",
       "    <tr>\n",
       "      <th>308</th>\n",
       "      <td>👎</td>\n",
       "      <td>-0.691975</td>\n",
       "    </tr>\n",
       "    <tr>\n",
       "      <th>309</th>\n",
       "      <td>🤮</td>\n",
       "      <td>-0.743795</td>\n",
       "    </tr>\n",
       "    <tr>\n",
       "      <th>310</th>\n",
       "      <td>🤬</td>\n",
       "      <td>-0.844986</td>\n",
       "    </tr>\n",
       "    <tr>\n",
       "      <th>311</th>\n",
       "      <td>😡</td>\n",
       "      <td>-1.053077</td>\n",
       "    </tr>\n",
       "  </tbody>\n",
       "</table>\n",
       "</div>"
      ],
      "text/plain": [
       "    emoji      coef\n",
       "0       🇵  0.740693\n",
       "1       👍  0.301067\n",
       "2       🎂  0.269522\n",
       "3       😍  0.251292\n",
       "4       🏮  0.251098\n",
       "307     😠 -0.631728\n",
       "308     👎 -0.691975\n",
       "309     🤮 -0.743795\n",
       "310     🤬 -0.844986\n",
       "311     😡 -1.053077"
      ]
     },
     "execution_count": 31,
     "metadata": {},
     "output_type": "execute_result"
    }
   ],
   "source": [
    "emoji_importance = pd.DataFrame({'emoji': vectorizer.get_feature_names_out(),\n",
    "                                 'coef': model.coef_}).sort_values('coef', ascending=False).reset_index(drop=True)\n",
    "\n",
    "top_bot = emoji_importance.index[:5].to_list() + emoji_importance.index[-5:].to_list()\n",
    "emoji_importance.iloc[top_bot]\n"
   ]
  },
  {
   "cell_type": "markdown",
   "id": "4d5eb536",
   "metadata": {},
   "source": [
    "The simple linear regression model is able to identify the general sentiment of emojis. The use of Emoji indeed tells a lot about the sentiment of a review. Instead of removing them like stop words, we should keep them for building the sentiment classfication model."
   ]
  },
  {
   "cell_type": "markdown",
   "id": "00c09b1e-799f-4abd-bdc9-d212cf359a18",
   "metadata": {},
   "source": [
    "# Tokenize corpus\n",
    "Next, we will tokenize the corpus for building the Word2Vec model later. Unlike the English language where words in a sentence are segmented by spaces, thereby allowing easy tokenization, the Chinese language and a lot of other languages are in fact not 'space-tokenizable', there is no space between words and phrases, a sentence is a string of unseparated characters. \n",
    "\n",
    "For tokenization of Chinese words, the most widely used tokenizer is Jieba. However, since there are fundamental differences in the use of vocabularies and style between the normal Chinese language, which Jieba handles, and Cantonese, we will use the Pycantonese library which is centered towards Cantonese NLP task to tokenize the corpus. "
   ]
  },
  {
   "cell_type": "code",
   "execution_count": 32,
   "id": "572c57e1",
   "metadata": {},
   "outputs": [
    {
     "data": {
      "text/plain": [
       "'佐敦 新 開 左 間 隱 世 拉 麵 小店 主打 雞 白湯 拉 麵 同 鰻魚 飯 賣相 同 食物 都 似 座 銀 但 比較 下 呢 間 食落 更 有 驚喜 比 座 銀 更 勝 一 籌 雞 白湯 拉 麵 9855 同樣 有 黑 豚 慢煮 赤 雞 溏心蛋 同 炸 牛蒡 黑 豚 同 慢煮 雞 既 肉質 比 座 銀 更 軟 淋 雞 白湯 底 就 差不多 都 好 濃郁 溏心蛋 夠 流 心 價錢 較 平 性價比 高 火 炙 沖繩 阿 古 豬 飯 9835 去到 鰻魚 飯 賣 哂 唯有 試下 呢 款 期間 限定 供應 期 至 2011 阿 古 豬 質感 有啲 似 鴨 胸 如果 醬汁 多 啲 更 好 psdownload 餐廳 個 app 免費 送 溏心蛋 或 汔 水'"
      ]
     },
     "execution_count": 32,
     "metadata": {},
     "output_type": "execute_result"
    }
   ],
   "source": [
    "import pycantonese\n",
    "\n",
    "test_review = df['review_clean'][300]\n",
    "tokens = pycantonese.segment(test_review)\n",
    "\" \".join(tokens)"
   ]
  },
  {
   "cell_type": "markdown",
   "id": "d71ecc81",
   "metadata": {},
   "source": [
    "Off the shelf the segmenter is able to pick up most of the common vocabularies, however, it fails to capture a lot of the specific terms and phrases, e.g. the dish names, shop names, locations, etc.. To enhance the tokenization ability, we need to extract context-specific vocabularies from the corpus. The strategy:\n",
    "1. group reviews by shop\n",
    "2. use Gensim's Phrases class to extract context specific vocabularies (bi- & tri-grams)\n",
    "3. add the vocabulary on top of the off-the-shelf segmenter"
   ]
  },
  {
   "cell_type": "code",
   "execution_count": 33,
   "id": "30e8d973",
   "metadata": {},
   "outputs": [],
   "source": [
    "from gensim.models import Phrases"
   ]
  },
  {
   "cell_type": "code",
   "execution_count": 34,
   "id": "bf89c769",
   "metadata": {},
   "outputs": [],
   "source": [
    "# grouped by shop name\n",
    "grouped_shop = df.groupby('shop', as_index=False).agg({'review_clean':'unique','review':'count'})\n",
    "\n",
    "\n",
    "# get context specific vocabularies related to the specific restaurant\n",
    "def get_context_vocab(corpus, ngrams=3, min_review=40, min_count_percent=0.1, threshold=100):\n",
    "    if len(corpus) >= min_review:\n",
    "        corpus = [split_word(i) for i in corpus]\n",
    "        for i in range(1,ngrams):\n",
    "            ngram = Phrases(corpus, min_count=len(corpus)*min_count_percent, threshold=threshold, delimiter=\"\")\n",
    "            corpus = [ngram[sentence] for sentence in corpus]\n",
    "        all_words = set([item for sublist in corpus for item in sublist])\n",
    "        ngrams = [i for i in all_words if not i[0].isascii() and len(i) > 1]\n",
    "        return ngrams\n",
    "\n",
    "\n",
    "grouped_shop['context_specific_vocabs'] = grouped_shop['review_clean'].apply(lambda x: [re.sub(r'\\bemoji_\\d+\\b','', str(i)) for i in x]).apply(get_context_vocab) # remove emoji encodings to avoid picking up phrases containing emojis\n"
   ]
  },
  {
   "cell_type": "code",
   "execution_count": 35,
   "id": "20788569",
   "metadata": {},
   "outputs": [
    {
     "data": {
      "text/plain": [
       "'佐敦 新 開 左 間 隱世 拉麵 小店 主打 雞 白湯 拉麵 同 鰻魚 飯 賣相 同 食物 都 似 座銀 但 比較 下 呢 間 食落 更 有 驚喜 比 座銀 更 勝 一 籌 雞 白湯 拉麵 9855 同樣 有 黑豚 慢煮 赤 雞 溏心蛋 同 炸 牛蒡 黑豚 同 慢煮 雞 既 肉質 比 座銀 更 軟 淋 雞 白湯 底 就 差不多 都 好 濃郁 溏心蛋 夠 流心 價錢 較 平 性價比 高 火炙 沖繩 阿古豬 飯 9835 去到 鰻魚 飯 賣 哂 唯有 試下 呢 款 期間 限定 供應 期 至 2011 阿古豬 質感 有啲 似 鴨胸 如果 醬汁 多 啲 更 好 psdownload 餐廳 個 app 免費 送 溏心蛋 或 汔 水'"
      ]
     },
     "execution_count": 35,
     "metadata": {},
     "output_type": "execute_result"
    }
   ],
   "source": [
    "from pycantonese.word_segmentation import Segmenter\n",
    "\n",
    "# all custom words\n",
    "all_vocabs = [i for i in grouped_shop['context_specific_vocabs'].to_list() if i]\n",
    "custom_words = set([item for sublist in all_vocabs for item in sublist])\n",
    "\n",
    "\n",
    "# add the custom words to the segmenter\n",
    "segmenter = Segmenter(allow=custom_words)\n",
    "tokens = pycantonese.segment(test_review, cls=segmenter)\n",
    "\" \".join(tokens)"
   ]
  },
  {
   "cell_type": "code",
   "execution_count": 36,
   "id": "c0c6d0b4",
   "metadata": {},
   "outputs": [],
   "source": [
    "# tokenize full corpus using the enhanced segmenter\n",
    "def flatten(nested_list):\n",
    "    return [i for sublist in nested_list for i in sublist]\n",
    "    \n",
    "df['full_tokens'] = df['review_clean'].apply(lambda x: [pycantonese.segment(i, cls=segmenter) for i in x.split()])\n",
    "df['full_tokens'] = df['full_tokens'].apply(flatten)"
   ]
  },
  {
   "cell_type": "code",
   "execution_count": 37,
   "id": "2c9f516b",
   "metadata": {},
   "outputs": [
    {
     "data": {
      "text/plain": [
       "156.65565405886113"
      ]
     },
     "execution_count": 37,
     "metadata": {},
     "output_type": "execute_result"
    }
   ],
   "source": [
    "# average no. of tokens\n",
    "df['full_tokens'].apply(len).mean()"
   ]
  },
  {
   "cell_type": "code",
   "execution_count": 38,
   "id": "eeb1cd47-b232-470f-be68-870ebfa2312a",
   "metadata": {},
   "outputs": [
    {
     "name": "stderr",
     "output_type": "stream",
     "text": [
      "[nltk_data] Downloading package stopwords to\n",
      "[nltk_data]     /Users/Johnny/nltk_data...\n",
      "[nltk_data]   Package stopwords is already up-to-date!\n"
     ]
    }
   ],
   "source": [
    "import nltk\n",
    "nltk.download('stopwords')\n",
    "from nltk.corpus import stopwords as english_stopwords\n",
    "import chinese_converter\n",
    "import requests\n",
    "\n",
    "# find chinese stopwords \n",
    "def get_chin_stopwords():\n",
    "    stopwords_1 = list(pycantonese.stop_words())\n",
    "    stopwords_2 = requests.get('https://raw.githubusercontent.com/stopwords-iso/stopwords-zh/master/stopwords-zh.json').json()\n",
    "    # stopwords_2 in simplified chinese, need to translate to traditional chinese first\n",
    "    stopwords_2 =  [chinese_converter.to_traditional(i) for i in stopwords_2]\n",
    "    # combine the stopwords from the 2 sources\n",
    "    chin_stopwords = stopwords_1 + stopwords_2\n",
    "    return chin_stopwords\n",
    "\n",
    "# get chinese & english stopwords\n",
    "chin_stopwords = get_chin_stopwords()\n",
    "eng_stopwords = english_stopwords.words('english')\n",
    "all_stopwords = chin_stopwords + eng_stopwords\n",
    "\n",
    "\n",
    "# function to remove stopwords\n",
    "def remove_stopwords(tokens, stopword_list):\n",
    "    output = [i for i in tokens if i not in stopword_list]\n",
    "    return output\n"
   ]
  },
  {
   "cell_type": "code",
   "execution_count": 39,
   "id": "a6a255cc-80a5-45d8-94f7-cc31ddadd81f",
   "metadata": {},
   "outputs": [],
   "source": [
    "# remove stop words\n",
    "df['full_tokens'] = df['full_tokens'].apply(lambda x: remove_stopwords(x, all_stopwords))"
   ]
  },
  {
   "cell_type": "markdown",
   "id": "0cf0abea",
   "metadata": {},
   "source": [
    "## Word2Vec\n",
    "The algorithm uses neural network to learn the word embeddings from the corpus. It convert tokens n-dimensional vectors which capture the latent semantic meaning and context of the words."
   ]
  },
  {
   "cell_type": "code",
   "execution_count": 41,
   "id": "ed17d8bd",
   "metadata": {},
   "outputs": [],
   "source": [
    "from gensim.models import Word2Vec"
   ]
  },
  {
   "cell_type": "code",
   "execution_count": 42,
   "id": "094edc0d",
   "metadata": {},
   "outputs": [],
   "source": [
    "sentences = df['full_tokens']\n",
    "embedding_dim = 300\n",
    "\n",
    "# traing word2vec model\n",
    "w2v_model = Word2Vec(min_count=10,  \n",
    "                     window=5,  \n",
    "                     vector_size=embedding_dim,  \n",
    "                     workers=8)  \n",
    "\n",
    "w2v_model.build_vocab(sentences)\n",
    "w2v_model.train(sentences, total_examples=w2v_model.corpus_count, epochs=100)\n",
    "w2v_model.init_sims(replace=True)"
   ]
  },
  {
   "cell_type": "code",
   "execution_count": 43,
   "id": "c5f4d70b",
   "metadata": {},
   "outputs": [],
   "source": [
    "# # save model\n",
    "# with open('word2vec_model.pickle', 'wb') as f:\n",
    "#     pickle.dump(w2v_model, f)\n",
    "with open('word2vec_model.pickle', 'rb') as f:\n",
    "    w2v_model = pickle.load(f)"
   ]
  },
  {
   "cell_type": "code",
   "execution_count": 44,
   "id": "e28d1e4b",
   "metadata": {},
   "outputs": [
    {
     "name": "stdout",
     "output_type": "stream",
     "text": [
      "36635\n"
     ]
    }
   ],
   "source": [
    "# vocab size\n",
    "vocab_size = len(w2v_model.wv.key_to_index)\n",
    "print(vocab_size)"
   ]
  },
  {
   "cell_type": "markdown",
   "id": "73f33202",
   "metadata": {},
   "source": [
    "Visualize 300 dimensional word embeddings in 2D"
   ]
  },
  {
   "cell_type": "code",
   "execution_count": 45,
   "id": "27946304",
   "metadata": {},
   "outputs": [],
   "source": [
    "def top_similar_words(query_words, top=10):\n",
    "    \"Return a dictionary of top N similar words and their embedding vectors based on the input query word list.\"\n",
    "    word_embeddings = {}\n",
    "    for word in query_words:\n",
    "        try:\n",
    "            word_embeddings[word] = w2v_model.wv[word]\n",
    "            similar_words = w2v_model.wv.most_similar(positive=[word])[:top]\n",
    "            for similar, similarity in similar_words:\n",
    "                word_embeddings[similar] = w2v_model.wv[similar]\n",
    "        except:\n",
    "            print(f'query word {word} not in the vocabulary.')\n",
    "    return word_embeddings\n"
   ]
  },
  {
   "cell_type": "code",
   "execution_count": 46,
   "id": "08d8cf8e",
   "metadata": {},
   "outputs": [],
   "source": [
    "query_words = ['朋友','尖沙咀','天氣','彈牙','酸','胡椒','四川','雞扒']"
   ]
  },
  {
   "cell_type": "code",
   "execution_count": 49,
   "id": "1aa255ec-20af-4f2f-8dfe-b1e95de7505a",
   "metadata": {},
   "outputs": [
    {
     "name": "stderr",
     "output_type": "stream",
     "text": [
      "/Users/Johnny/miniforge3/lib/python3.9/site-packages/sklearn/manifold/_t_sne.py:790: FutureWarning: The default learning rate in TSNE will change from 200.0 to 'auto' in 1.2.\n",
      "  warnings.warn(\n",
      "/Users/Johnny/miniforge3/lib/python3.9/site-packages/sklearn/manifold/_t_sne.py:982: FutureWarning: The PCA initialization in TSNE will change to have the standard deviation of PC1 equal to 1e-4 in 1.2. This will ensure better convergence.\n",
      "  warnings.warn(\n"
     ]
    }
   ],
   "source": [
    "from translate import Translator\n",
    "from sklearn.manifold import TSNE\n",
    "\n",
    "# visualize 300-dimensional vectors in 2D using TSNE\n",
    "word_embeddings = top_similar_words(query_words)\n",
    "labels = list(word_embeddings.keys())\n",
    "tokens = list(word_embeddings.values())\n",
    "\n",
    "tsne_model = TSNE(perplexity=60, n_components=2, init='pca', n_iter=500, random_state=23)\n",
    "new_values = tsne_model.fit_transform(tokens)\n",
    "\n",
    "# form a dataframe\n",
    "tsne_df = pd.DataFrame(new_values, columns=['Component 1', 'Component 2'])\n",
    "tsne_df['label'] = labels\n",
    "\n",
    "# translate the Chinese to English - note that some translations maybe inaccurate due to local/slang terms\n",
    "translator= Translator(to_lang=\"en\",from_lang='zh')\n",
    "# tsne_df['label_eng'] = tsne_df['label'].apply(lambda x: translator.translate(x))"
   ]
  },
  {
   "cell_type": "code",
   "execution_count": 50,
   "id": "452e3625",
   "metadata": {},
   "outputs": [
    {
     "data": {
      "text/html": [
       "<div>\n",
       "<style scoped>\n",
       "    .dataframe tbody tr th:only-of-type {\n",
       "        vertical-align: middle;\n",
       "    }\n",
       "\n",
       "    .dataframe tbody tr th {\n",
       "        vertical-align: top;\n",
       "    }\n",
       "\n",
       "    .dataframe thead th {\n",
       "        text-align: right;\n",
       "    }\n",
       "</style>\n",
       "<table border=\"1\" class=\"dataframe\">\n",
       "  <thead>\n",
       "    <tr style=\"text-align: right;\">\n",
       "      <th></th>\n",
       "      <th>Component 1</th>\n",
       "      <th>Component 2</th>\n",
       "      <th>label</th>\n",
       "    </tr>\n",
       "  </thead>\n",
       "  <tbody>\n",
       "    <tr>\n",
       "      <th>0</th>\n",
       "      <td>1.521334</td>\n",
       "      <td>1.606653</td>\n",
       "      <td>朋友</td>\n",
       "    </tr>\n",
       "    <tr>\n",
       "      <th>1</th>\n",
       "      <td>1.477354</td>\n",
       "      <td>1.572478</td>\n",
       "      <td>友人</td>\n",
       "    </tr>\n",
       "    <tr>\n",
       "      <th>2</th>\n",
       "      <td>1.509402</td>\n",
       "      <td>1.646663</td>\n",
       "      <td>同事</td>\n",
       "    </tr>\n",
       "    <tr>\n",
       "      <th>3</th>\n",
       "      <td>1.576670</td>\n",
       "      <td>1.479228</td>\n",
       "      <td>朋友仔</td>\n",
       "    </tr>\n",
       "    <tr>\n",
       "      <th>4</th>\n",
       "      <td>1.451620</td>\n",
       "      <td>1.500583</td>\n",
       "      <td>男朋友</td>\n",
       "    </tr>\n",
       "  </tbody>\n",
       "</table>\n",
       "</div>"
      ],
      "text/plain": [
       "   Component 1  Component 2 label\n",
       "0     1.521334     1.606653    朋友\n",
       "1     1.477354     1.572478    友人\n",
       "2     1.509402     1.646663    同事\n",
       "3     1.576670     1.479228   朋友仔\n",
       "4     1.451620     1.500583   男朋友"
      ]
     },
     "execution_count": 50,
     "metadata": {},
     "output_type": "execute_result"
    }
   ],
   "source": [
    "tsne_df.head()"
   ]
  },
  {
   "cell_type": "code",
   "execution_count": 51,
   "id": "68ac3f61",
   "metadata": {},
   "outputs": [
    {
     "data": {
      "application/vnd.plotly.v1+json": {
       "config": {
        "plotlyServerURL": "https://plot.ly"
       },
       "data": [
        {
         "hovertemplate": "<b>%{hovertext}</b><br><br>Component 1=%{x}<br>Component 2=%{y}<br>label=%{text}<extra></extra>",
         "hovertext": [
          "朋友",
          "友人",
          "同事",
          "朋友仔",
          "男朋友",
          "老公",
          "女朋友",
          "男友",
          "女友",
          "屋企人",
          "老友",
          "尖沙咀",
          "銅鑼灣",
          "旺角",
          "中環",
          "灣仔",
          "佐敦",
          "尖東",
          "尖沙嘴",
          "荃灣",
          "尖咀",
          "九龍城",
          "天氣",
          "夏天",
          "冬天",
          "大熱天時",
          "氣溫",
          "秋高氣爽",
          "秋風",
          "天口",
          "落雨",
          "天寒地凍",
          "天陰陰",
          "彈牙",
          "有彈性",
          "爽口",
          "咬口",
          "彈",
          "煙韌",
          "結實",
          "爽",
          "入味",
          "鮮甜",
          "彈性",
          "酸",
          "酸味",
          "甜",
          "酸酸地",
          "鹹",
          "酸甜",
          "咸",
          "開胃",
          "清新",
          "微辣",
          "苦",
          "胡椒",
          "黑胡椒",
          "黑椒",
          "藥材",
          "豬骨",
          "香料",
          "胡椒粉",
          "白胡椒",
          "麻油",
          "胡椒豬肚",
          "鹽",
          "四川",
          "川菜",
          "新疆",
          "重慶",
          "上海",
          "台灣",
          "雲南",
          "東南亞",
          "麻辣",
          "川式",
          "川",
          "雞扒",
          "豬扒",
          "雞排",
          "豬排",
          "魚柳",
          "豬扒飯",
          "吉列豬扒",
          "鷄扒",
          "豬頸肉",
          "扒",
          "煎豬扒"
         ],
         "legendgroup": "",
         "marker": {
          "color": "#636efa",
          "symbol": "circle"
         },
         "mode": "markers+text",
         "name": "",
         "orientation": "v",
         "showlegend": false,
         "text": [
          "朋友",
          "友人",
          "同事",
          "朋友仔",
          "男朋友",
          "老公",
          "女朋友",
          "男友",
          "女友",
          "屋企人",
          "老友",
          "尖沙咀",
          "銅鑼灣",
          "旺角",
          "中環",
          "灣仔",
          "佐敦",
          "尖東",
          "尖沙嘴",
          "荃灣",
          "尖咀",
          "九龍城",
          "天氣",
          "夏天",
          "冬天",
          "大熱天時",
          "氣溫",
          "秋高氣爽",
          "秋風",
          "天口",
          "落雨",
          "天寒地凍",
          "天陰陰",
          "彈牙",
          "有彈性",
          "爽口",
          "咬口",
          "彈",
          "煙韌",
          "結實",
          "爽",
          "入味",
          "鮮甜",
          "彈性",
          "酸",
          "酸味",
          "甜",
          "酸酸地",
          "鹹",
          "酸甜",
          "咸",
          "開胃",
          "清新",
          "微辣",
          "苦",
          "胡椒",
          "黑胡椒",
          "黑椒",
          "藥材",
          "豬骨",
          "香料",
          "胡椒粉",
          "白胡椒",
          "麻油",
          "胡椒豬肚",
          "鹽",
          "四川",
          "川菜",
          "新疆",
          "重慶",
          "上海",
          "台灣",
          "雲南",
          "東南亞",
          "麻辣",
          "川式",
          "川",
          "雞扒",
          "豬扒",
          "雞排",
          "豬排",
          "魚柳",
          "豬扒飯",
          "吉列豬扒",
          "鷄扒",
          "豬頸肉",
          "扒",
          "煎豬扒"
         ],
         "textposition": "top center",
         "type": "scatter",
         "x": [
          1.521334171295166,
          1.4773541688919067,
          1.5094023942947388,
          1.5766704082489014,
          1.4516198635101318,
          1.4276870489120483,
          1.4448583126068115,
          1.3876479864120483,
          1.440644383430481,
          1.5991407632827759,
          1.535531997680664,
          1.0440855026245117,
          1.0115420818328857,
          0.981476366519928,
          0.9729881286621094,
          0.8868482708930969,
          0.8826368451118469,
          1.100848913192749,
          1.07183837890625,
          0.8225294351577759,
          1.1651256084442139,
          0.8744939565658569,
          0.9054785966873169,
          0.5755100846290588,
          0.571843147277832,
          0.8076074719429016,
          1.0428788661956787,
          0.8628517985343933,
          0.6689117550849915,
          0.8898699879646301,
          1.2723302841186523,
          0.8533117771148682,
          1.3498274087905884,
          -2.3994083404541016,
          -2.5831782817840576,
          -2.158409833908081,
          -2.3172173500061035,
          -2.5792765617370605,
          -2.389690637588501,
          -2.560300827026367,
          -2.2299578189849854,
          -2.090639591217041,
          -2.051318645477295,
          -2.6157402992248535,
          -1.2749323844909668,
          -1.3366661071777344,
          -1.4769184589385986,
          -1.1297260522842407,
          -1.6087599992752075,
          -1.0633951425552368,
          -1.5933506488800049,
          -1.1112561225891113,
          -1.189587950706482,
          -1.566914677619934,
          -1.3279094696044922,
          -1.9073020219802856,
          -1.8593971729278564,
          -1.6494826078414917,
          -2.0288918018341064,
          -1.86788809299469,
          -1.923147201538086,
          -2.1299242973327637,
          -1.9231051206588745,
          -1.9607982635498047,
          -1.6862503290176392,
          -2.020864963531494,
          -0.6296420693397522,
          -0.4799875020980835,
          -0.564146876335144,
          -0.8424996733665466,
          -0.45189207792282104,
          -0.3359220623970032,
          -0.4574801027774811,
          -0.4217272996902466,
          -1.3189735412597656,
          -0.8119171857833862,
          -0.6227954626083374,
          -0.41882607340812683,
          -0.4300827980041504,
          -0.3734835386276245,
          -0.3593294024467468,
          -0.3999224007129669,
          -0.16992902755737305,
          -0.15361660718917847,
          -0.17887872457504272,
          -0.9361582398414612,
          -0.24735620617866516,
          -0.5247241258621216
         ],
         "xaxis": "x",
         "y": [
          1.6066526174545288,
          1.5724776983261108,
          1.6466628313064575,
          1.4792275428771973,
          1.5005826950073242,
          1.4851683378219604,
          1.5107715129852295,
          1.480655312538147,
          1.5020630359649658,
          1.4888527393341064,
          1.688088059425354,
          2.782505750656128,
          2.733659505844116,
          2.75710391998291,
          2.845064401626587,
          2.7733709812164307,
          2.7668352127075195,
          2.9221699237823486,
          2.8852386474609375,
          2.671966791152954,
          2.7117650508880615,
          2.6987130641937256,
          0.121683768928051,
          -0.039934441447257996,
          -0.03532808646559715,
          0.014205737970769405,
          0.13392996788024902,
          0.16719026863574982,
          0.0710027813911438,
          0.26529669761657715,
          0.20384354889392853,
          0.18801413476467133,
          0.1466275304555893,
          0.33215102553367615,
          0.324520468711853,
          0.2040177285671234,
          0.41174331307411194,
          0.16414795815944672,
          0.3065716624259949,
          0.18891610205173492,
          0.08803796768188477,
          0.6262404322624207,
          0.04188260808587074,
          0.4708506464958191,
          0.0846477523446083,
          0.3409005105495453,
          0.1637229323387146,
          -0.09965687245130539,
          0.6452893614768982,
          -0.22379060089588165,
          0.6794050335884094,
          -0.21611382067203522,
          -0.25759637355804443,
          0.8930502533912659,
          0.26380622386932373,
          1.6679903268814087,
          1.5434682369232178,
          1.4431902170181274,
          1.9077262878417969,
          2.133422613143921,
          1.4554764032363892,
          1.659018635749817,
          1.9298837184906006,
          1.6925272941589355,
          2.3650991916656494,
          1.423502802848816,
          2.879319190979004,
          2.8473947048187256,
          2.987246513366699,
          2.7599425315856934,
          3.000708818435669,
          3.0861892700195312,
          2.917715072631836,
          3.0909571647644043,
          2.3305084705352783,
          2.62660813331604,
          2.7270185947418213,
          1.211437702178955,
          1.216308355331421,
          1.2477537393569946,
          1.2520893812179565,
          1.016894817352295,
          1.2373136281967163,
          1.1890528202056885,
          1.467755675315857,
          1.077043890953064,
          1.2072824239730835,
          1.3250606060028076
         ],
         "yaxis": "y"
        }
       ],
       "layout": {
        "height": 400,
        "legend": {
         "tracegroupgap": 0
        },
        "margin": {
         "t": 60
        },
        "template": {
         "data": {
          "bar": [
           {
            "error_x": {
             "color": "#2a3f5f"
            },
            "error_y": {
             "color": "#2a3f5f"
            },
            "marker": {
             "line": {
              "color": "#E5ECF6",
              "width": 0.5
             },
             "pattern": {
              "fillmode": "overlay",
              "size": 10,
              "solidity": 0.2
             }
            },
            "type": "bar"
           }
          ],
          "barpolar": [
           {
            "marker": {
             "line": {
              "color": "#E5ECF6",
              "width": 0.5
             },
             "pattern": {
              "fillmode": "overlay",
              "size": 10,
              "solidity": 0.2
             }
            },
            "type": "barpolar"
           }
          ],
          "carpet": [
           {
            "aaxis": {
             "endlinecolor": "#2a3f5f",
             "gridcolor": "white",
             "linecolor": "white",
             "minorgridcolor": "white",
             "startlinecolor": "#2a3f5f"
            },
            "baxis": {
             "endlinecolor": "#2a3f5f",
             "gridcolor": "white",
             "linecolor": "white",
             "minorgridcolor": "white",
             "startlinecolor": "#2a3f5f"
            },
            "type": "carpet"
           }
          ],
          "choropleth": [
           {
            "colorbar": {
             "outlinewidth": 0,
             "ticks": ""
            },
            "type": "choropleth"
           }
          ],
          "contour": [
           {
            "colorbar": {
             "outlinewidth": 0,
             "ticks": ""
            },
            "colorscale": [
             [
              0,
              "#0d0887"
             ],
             [
              0.1111111111111111,
              "#46039f"
             ],
             [
              0.2222222222222222,
              "#7201a8"
             ],
             [
              0.3333333333333333,
              "#9c179e"
             ],
             [
              0.4444444444444444,
              "#bd3786"
             ],
             [
              0.5555555555555556,
              "#d8576b"
             ],
             [
              0.6666666666666666,
              "#ed7953"
             ],
             [
              0.7777777777777778,
              "#fb9f3a"
             ],
             [
              0.8888888888888888,
              "#fdca26"
             ],
             [
              1,
              "#f0f921"
             ]
            ],
            "type": "contour"
           }
          ],
          "contourcarpet": [
           {
            "colorbar": {
             "outlinewidth": 0,
             "ticks": ""
            },
            "type": "contourcarpet"
           }
          ],
          "heatmap": [
           {
            "colorbar": {
             "outlinewidth": 0,
             "ticks": ""
            },
            "colorscale": [
             [
              0,
              "#0d0887"
             ],
             [
              0.1111111111111111,
              "#46039f"
             ],
             [
              0.2222222222222222,
              "#7201a8"
             ],
             [
              0.3333333333333333,
              "#9c179e"
             ],
             [
              0.4444444444444444,
              "#bd3786"
             ],
             [
              0.5555555555555556,
              "#d8576b"
             ],
             [
              0.6666666666666666,
              "#ed7953"
             ],
             [
              0.7777777777777778,
              "#fb9f3a"
             ],
             [
              0.8888888888888888,
              "#fdca26"
             ],
             [
              1,
              "#f0f921"
             ]
            ],
            "type": "heatmap"
           }
          ],
          "heatmapgl": [
           {
            "colorbar": {
             "outlinewidth": 0,
             "ticks": ""
            },
            "colorscale": [
             [
              0,
              "#0d0887"
             ],
             [
              0.1111111111111111,
              "#46039f"
             ],
             [
              0.2222222222222222,
              "#7201a8"
             ],
             [
              0.3333333333333333,
              "#9c179e"
             ],
             [
              0.4444444444444444,
              "#bd3786"
             ],
             [
              0.5555555555555556,
              "#d8576b"
             ],
             [
              0.6666666666666666,
              "#ed7953"
             ],
             [
              0.7777777777777778,
              "#fb9f3a"
             ],
             [
              0.8888888888888888,
              "#fdca26"
             ],
             [
              1,
              "#f0f921"
             ]
            ],
            "type": "heatmapgl"
           }
          ],
          "histogram": [
           {
            "marker": {
             "pattern": {
              "fillmode": "overlay",
              "size": 10,
              "solidity": 0.2
             }
            },
            "type": "histogram"
           }
          ],
          "histogram2d": [
           {
            "colorbar": {
             "outlinewidth": 0,
             "ticks": ""
            },
            "colorscale": [
             [
              0,
              "#0d0887"
             ],
             [
              0.1111111111111111,
              "#46039f"
             ],
             [
              0.2222222222222222,
              "#7201a8"
             ],
             [
              0.3333333333333333,
              "#9c179e"
             ],
             [
              0.4444444444444444,
              "#bd3786"
             ],
             [
              0.5555555555555556,
              "#d8576b"
             ],
             [
              0.6666666666666666,
              "#ed7953"
             ],
             [
              0.7777777777777778,
              "#fb9f3a"
             ],
             [
              0.8888888888888888,
              "#fdca26"
             ],
             [
              1,
              "#f0f921"
             ]
            ],
            "type": "histogram2d"
           }
          ],
          "histogram2dcontour": [
           {
            "colorbar": {
             "outlinewidth": 0,
             "ticks": ""
            },
            "colorscale": [
             [
              0,
              "#0d0887"
             ],
             [
              0.1111111111111111,
              "#46039f"
             ],
             [
              0.2222222222222222,
              "#7201a8"
             ],
             [
              0.3333333333333333,
              "#9c179e"
             ],
             [
              0.4444444444444444,
              "#bd3786"
             ],
             [
              0.5555555555555556,
              "#d8576b"
             ],
             [
              0.6666666666666666,
              "#ed7953"
             ],
             [
              0.7777777777777778,
              "#fb9f3a"
             ],
             [
              0.8888888888888888,
              "#fdca26"
             ],
             [
              1,
              "#f0f921"
             ]
            ],
            "type": "histogram2dcontour"
           }
          ],
          "mesh3d": [
           {
            "colorbar": {
             "outlinewidth": 0,
             "ticks": ""
            },
            "type": "mesh3d"
           }
          ],
          "parcoords": [
           {
            "line": {
             "colorbar": {
              "outlinewidth": 0,
              "ticks": ""
             }
            },
            "type": "parcoords"
           }
          ],
          "pie": [
           {
            "automargin": true,
            "type": "pie"
           }
          ],
          "scatter": [
           {
            "marker": {
             "colorbar": {
              "outlinewidth": 0,
              "ticks": ""
             }
            },
            "type": "scatter"
           }
          ],
          "scatter3d": [
           {
            "line": {
             "colorbar": {
              "outlinewidth": 0,
              "ticks": ""
             }
            },
            "marker": {
             "colorbar": {
              "outlinewidth": 0,
              "ticks": ""
             }
            },
            "type": "scatter3d"
           }
          ],
          "scattercarpet": [
           {
            "marker": {
             "colorbar": {
              "outlinewidth": 0,
              "ticks": ""
             }
            },
            "type": "scattercarpet"
           }
          ],
          "scattergeo": [
           {
            "marker": {
             "colorbar": {
              "outlinewidth": 0,
              "ticks": ""
             }
            },
            "type": "scattergeo"
           }
          ],
          "scattergl": [
           {
            "marker": {
             "colorbar": {
              "outlinewidth": 0,
              "ticks": ""
             }
            },
            "type": "scattergl"
           }
          ],
          "scattermapbox": [
           {
            "marker": {
             "colorbar": {
              "outlinewidth": 0,
              "ticks": ""
             }
            },
            "type": "scattermapbox"
           }
          ],
          "scatterpolar": [
           {
            "marker": {
             "colorbar": {
              "outlinewidth": 0,
              "ticks": ""
             }
            },
            "type": "scatterpolar"
           }
          ],
          "scatterpolargl": [
           {
            "marker": {
             "colorbar": {
              "outlinewidth": 0,
              "ticks": ""
             }
            },
            "type": "scatterpolargl"
           }
          ],
          "scatterternary": [
           {
            "marker": {
             "colorbar": {
              "outlinewidth": 0,
              "ticks": ""
             }
            },
            "type": "scatterternary"
           }
          ],
          "surface": [
           {
            "colorbar": {
             "outlinewidth": 0,
             "ticks": ""
            },
            "colorscale": [
             [
              0,
              "#0d0887"
             ],
             [
              0.1111111111111111,
              "#46039f"
             ],
             [
              0.2222222222222222,
              "#7201a8"
             ],
             [
              0.3333333333333333,
              "#9c179e"
             ],
             [
              0.4444444444444444,
              "#bd3786"
             ],
             [
              0.5555555555555556,
              "#d8576b"
             ],
             [
              0.6666666666666666,
              "#ed7953"
             ],
             [
              0.7777777777777778,
              "#fb9f3a"
             ],
             [
              0.8888888888888888,
              "#fdca26"
             ],
             [
              1,
              "#f0f921"
             ]
            ],
            "type": "surface"
           }
          ],
          "table": [
           {
            "cells": {
             "fill": {
              "color": "#EBF0F8"
             },
             "line": {
              "color": "white"
             }
            },
            "header": {
             "fill": {
              "color": "#C8D4E3"
             },
             "line": {
              "color": "white"
             }
            },
            "type": "table"
           }
          ]
         },
         "layout": {
          "annotationdefaults": {
           "arrowcolor": "#2a3f5f",
           "arrowhead": 0,
           "arrowwidth": 1
          },
          "autotypenumbers": "strict",
          "coloraxis": {
           "colorbar": {
            "outlinewidth": 0,
            "ticks": ""
           }
          },
          "colorscale": {
           "diverging": [
            [
             0,
             "#8e0152"
            ],
            [
             0.1,
             "#c51b7d"
            ],
            [
             0.2,
             "#de77ae"
            ],
            [
             0.3,
             "#f1b6da"
            ],
            [
             0.4,
             "#fde0ef"
            ],
            [
             0.5,
             "#f7f7f7"
            ],
            [
             0.6,
             "#e6f5d0"
            ],
            [
             0.7,
             "#b8e186"
            ],
            [
             0.8,
             "#7fbc41"
            ],
            [
             0.9,
             "#4d9221"
            ],
            [
             1,
             "#276419"
            ]
           ],
           "sequential": [
            [
             0,
             "#0d0887"
            ],
            [
             0.1111111111111111,
             "#46039f"
            ],
            [
             0.2222222222222222,
             "#7201a8"
            ],
            [
             0.3333333333333333,
             "#9c179e"
            ],
            [
             0.4444444444444444,
             "#bd3786"
            ],
            [
             0.5555555555555556,
             "#d8576b"
            ],
            [
             0.6666666666666666,
             "#ed7953"
            ],
            [
             0.7777777777777778,
             "#fb9f3a"
            ],
            [
             0.8888888888888888,
             "#fdca26"
            ],
            [
             1,
             "#f0f921"
            ]
           ],
           "sequentialminus": [
            [
             0,
             "#0d0887"
            ],
            [
             0.1111111111111111,
             "#46039f"
            ],
            [
             0.2222222222222222,
             "#7201a8"
            ],
            [
             0.3333333333333333,
             "#9c179e"
            ],
            [
             0.4444444444444444,
             "#bd3786"
            ],
            [
             0.5555555555555556,
             "#d8576b"
            ],
            [
             0.6666666666666666,
             "#ed7953"
            ],
            [
             0.7777777777777778,
             "#fb9f3a"
            ],
            [
             0.8888888888888888,
             "#fdca26"
            ],
            [
             1,
             "#f0f921"
            ]
           ]
          },
          "colorway": [
           "#636efa",
           "#EF553B",
           "#00cc96",
           "#ab63fa",
           "#FFA15A",
           "#19d3f3",
           "#FF6692",
           "#B6E880",
           "#FF97FF",
           "#FECB52"
          ],
          "font": {
           "color": "#2a3f5f"
          },
          "geo": {
           "bgcolor": "white",
           "lakecolor": "white",
           "landcolor": "#E5ECF6",
           "showlakes": true,
           "showland": true,
           "subunitcolor": "white"
          },
          "hoverlabel": {
           "align": "left"
          },
          "hovermode": "closest",
          "mapbox": {
           "style": "light"
          },
          "paper_bgcolor": "white",
          "plot_bgcolor": "#E5ECF6",
          "polar": {
           "angularaxis": {
            "gridcolor": "white",
            "linecolor": "white",
            "ticks": ""
           },
           "bgcolor": "#E5ECF6",
           "radialaxis": {
            "gridcolor": "white",
            "linecolor": "white",
            "ticks": ""
           }
          },
          "scene": {
           "xaxis": {
            "backgroundcolor": "#E5ECF6",
            "gridcolor": "white",
            "gridwidth": 2,
            "linecolor": "white",
            "showbackground": true,
            "ticks": "",
            "zerolinecolor": "white"
           },
           "yaxis": {
            "backgroundcolor": "#E5ECF6",
            "gridcolor": "white",
            "gridwidth": 2,
            "linecolor": "white",
            "showbackground": true,
            "ticks": "",
            "zerolinecolor": "white"
           },
           "zaxis": {
            "backgroundcolor": "#E5ECF6",
            "gridcolor": "white",
            "gridwidth": 2,
            "linecolor": "white",
            "showbackground": true,
            "ticks": "",
            "zerolinecolor": "white"
           }
          },
          "shapedefaults": {
           "line": {
            "color": "#2a3f5f"
           }
          },
          "ternary": {
           "aaxis": {
            "gridcolor": "white",
            "linecolor": "white",
            "ticks": ""
           },
           "baxis": {
            "gridcolor": "white",
            "linecolor": "white",
            "ticks": ""
           },
           "bgcolor": "#E5ECF6",
           "caxis": {
            "gridcolor": "white",
            "linecolor": "white",
            "ticks": ""
           }
          },
          "title": {
           "x": 0.05
          },
          "xaxis": {
           "automargin": true,
           "gridcolor": "white",
           "linecolor": "white",
           "ticks": "",
           "title": {
            "standoff": 15
           },
           "zerolinecolor": "white",
           "zerolinewidth": 2
          },
          "yaxis": {
           "automargin": true,
           "gridcolor": "white",
           "linecolor": "white",
           "ticks": "",
           "title": {
            "standoff": 15
           },
           "zerolinecolor": "white",
           "zerolinewidth": 2
          }
         }
        },
        "title": {
         "text": "Word2Vec Embeddings"
        },
        "width": 700,
        "xaxis": {
         "anchor": "y",
         "autorange": true,
         "domain": [
          0,
          1
         ],
         "title": {
          "text": "Component 1"
         }
        },
        "yaxis": {
         "anchor": "x",
         "domain": [
          0,
          1
         ],
         "title": {
          "text": "Component 2"
         }
        }
       }
      }
     },
     "metadata": {},
     "output_type": "display_data"
    }
   ],
   "source": [
    "# plot\n",
    "fig = px.scatter(tsne_df, x=\"Component 1\", y=\"Component 2\", text=\"label\",\n",
    "                 hover_name=\"label\", hover_data=['label_eng'], width=700, height=400)\n",
    "\n",
    "fig.update_traces(textposition='top center')\n",
    "fig.layout.xaxis.autorange = True\n",
    "fig.update_layout(title_text=\"Word2Vec Embeddings\")\n",
    "fig.show()\n"
   ]
  },
  {
   "cell_type": "markdown",
   "id": "f2e191d6",
   "metadata": {},
   "source": [
    "After training the word embeddings with Word2Vec, words of similar meanings and context are nicely clustered together."
   ]
  },
  {
   "cell_type": "markdown",
   "id": "14ac6da3",
   "metadata": {},
   "source": [
    "## Model building"
   ]
  },
  {
   "cell_type": "code",
   "execution_count": 54,
   "id": "33726f92",
   "metadata": {},
   "outputs": [],
   "source": [
    "from sklearn.model_selection import train_test_split\n",
    "\n",
    "# split training & testing data\n",
    "X = df['full_tokens']\n",
    "y = pd.get_dummies(df['sentiment'])\n",
    "\n",
    "X_train, X_test, y_train, y_test = train_test_split(X, y, test_size=0.1, random_state=42)\n"
   ]
  },
  {
   "cell_type": "code",
   "execution_count": 55,
   "id": "1d92167e",
   "metadata": {},
   "outputs": [],
   "source": [
    "def vectorize_data(corpus, model):\n",
    "    \"\"\"Map tokens to index of the corresponding vector\"\"\"\n",
    "    get_token_index = lambda sentence: [model.wv.key_to_index[token] for token in sentence if str(token) in w2v_model.wv]\n",
    "    vectors = list(map(get_token_index, corpus))\n",
    "    return vectors\n"
   ]
  },
  {
   "cell_type": "code",
   "execution_count": 56,
   "id": "9af212f1",
   "metadata": {},
   "outputs": [],
   "source": [
    "X_train = vectorize_data(X_train, w2v_model)\n",
    "X_test = vectorize_data(X_test, w2v_model)\n"
   ]
  },
  {
   "cell_type": "code",
   "execution_count": 58,
   "id": "6621cc43",
   "metadata": {},
   "outputs": [
    {
     "name": "stderr",
     "output_type": "stream",
     "text": [
      "/Users/Johnny/miniforge3/lib/python3.9/site-packages/seaborn/_decorators.py:36: FutureWarning:\n",
      "\n",
      "Pass the following variable as a keyword arg: x. From version 0.12, the only valid positional argument will be `data`, and passing other arguments without an explicit keyword will result in an error or misinterpretation.\n",
      "\n"
     ]
    },
    {
     "data": {
      "image/png": "[encoded data removed]",
      "text/plain": [
       "<Figure size 432x288 with 1 Axes>"
      ]
     },
     "metadata": {},
     "output_type": "display_data"
    }
   ],
   "source": [
    "# distribution of tokenized corpus length \n",
    "sns.boxplot(df.full_tokens.apply(len), color='#008fd5')\n",
    "plt.show()"
   ]
  },
  {
   "cell_type": "code",
   "execution_count": 59,
   "id": "ac86e226",
   "metadata": {},
   "outputs": [
    {
     "data": {
      "text/plain": [
       "count    179915.000000\n",
       "mean        102.225028\n",
       "std          49.820916\n",
       "min           0.000000\n",
       "25%          62.000000\n",
       "50%          94.000000\n",
       "75%         140.000000\n",
       "max         394.000000\n",
       "Name: full_tokens, dtype: float64"
      ]
     },
     "execution_count": 59,
     "metadata": {},
     "output_type": "execute_result"
    }
   ],
   "source": [
    "df.full_tokens.apply(len).describe()"
   ]
  },
  {
   "cell_type": "markdown",
   "id": "182862f0",
   "metadata": {},
   "source": [
    "Since neural networks take in a fixed size of input, we'll specify the input length. Inputs will be truncated or padded to match the input length."
   ]
  },
  {
   "cell_type": "code",
   "execution_count": 60,
   "id": "e521ca48",
   "metadata": {},
   "outputs": [],
   "source": [
    "from tensorflow.keras.preprocessing.text import Tokenizer\n",
    "from tensorflow.keras.preprocessing.sequence import pad_sequences\n",
    "\n",
    "input_length = 140\n",
    "X_train = pad_sequences(X_train, maxlen=input_length)\n",
    "X_test = pad_sequences(X_test, maxlen=input_length)\n"
   ]
  },
  {
   "cell_type": "code",
   "execution_count": 61,
   "id": "270467ff",
   "metadata": {},
   "outputs": [
    {
     "name": "stderr",
     "output_type": "stream",
     "text": [
      "2022-02-21 01:27:06.154031: I tensorflow/core/common_runtime/pluggable_device/pluggable_device_factory.cc:305] Could not identify NUMA node of platform GPU ID 0, defaulting to 0. Your kernel may not have been built with NUMA support.\n",
      "2022-02-21 01:27:06.156882: I tensorflow/core/common_runtime/pluggable_device/pluggable_device_factory.cc:271] Created TensorFlow device (/job:localhost/replica:0/task:0/device:GPU:0 with 0 MB memory) -> physical PluggableDevice (device: 0, name: METAL, pci bus id: <undefined>)\n"
     ]
    },
    {
     "name": "stdout",
     "output_type": "stream",
     "text": [
      "Metal device set to: Apple M1\n",
      "\n",
      "systemMemory: 8.00 GB\n",
      "maxCacheSize: 2.67 GB\n",
      "\n",
      "Model: \"sequential\"\n",
      "_________________________________________________________________\n",
      "Layer (type)                 Output Shape              Param #   \n",
      "=================================================================\n",
      "embedding (Embedding)        (None, 140, 300)          10990500  \n",
      "_________________________________________________________________\n",
      "bidirectional (Bidirectional (None, 256)               439296    \n",
      "_________________________________________________________________\n",
      "dropout (Dropout)            (None, 256)               0         \n",
      "_________________________________________________________________\n",
      "dense (Dense)                (None, 64)                16448     \n",
      "_________________________________________________________________\n",
      "dropout_1 (Dropout)          (None, 64)                0         \n",
      "_________________________________________________________________\n",
      "dense_1 (Dense)              (None, 16)                1040      \n",
      "_________________________________________________________________\n",
      "dense_2 (Dense)              (None, 3)                 51        \n",
      "=================================================================\n",
      "Total params: 11,447,335\n",
      "Trainable params: 456,835\n",
      "Non-trainable params: 10,990,500\n",
      "_________________________________________________________________\n"
     ]
    }
   ],
   "source": [
    "from tensorflow.keras.models import Sequential\n",
    "from tensorflow.keras.layers import Dense, LSTM, Dropout, Bidirectional, Embedding\n",
    "\n",
    "model = Sequential()\n",
    "model.add(Embedding(input_dim=vocab_size,\n",
    "                    output_dim=300,\n",
    "                    input_length=input_length,\n",
    "                    weights=[w2v_model.wv.vectors],\n",
    "                    trainable=False))\n",
    "model.add(Bidirectional(LSTM(128, dropout=0.2)))\n",
    "model.add(Dropout(0.2))\n",
    "model.add(Dense(64, activation='relu'))\n",
    "model.add(Dropout(0.2))\n",
    "model.add(Dense(16, activation='relu'))\n",
    "model.add(Dense(3, activation='sigmoid'))\n",
    "\n",
    "model.summary()\n"
   ]
  },
  {
   "cell_type": "code",
   "execution_count": 62,
   "id": "40c33ea2",
   "metadata": {},
   "outputs": [],
   "source": [
    "from tensorflow.keras.callbacks import ReduceLROnPlateau, EarlyStopping\n",
    "\n",
    "callbacks = [ReduceLROnPlateau(monitor='val_loss', patience=5, cooldown=0),\n",
    "             EarlyStopping(monitor='val_accuracy', min_delta=1e-4, patience=5)]\n"
   ]
  },
  {
   "cell_type": "code",
   "execution_count": 63,
   "id": "6b8359eb",
   "metadata": {},
   "outputs": [],
   "source": [
    "model.compile(loss='categorical_crossentropy', optimizer='adam', metrics=['accuracy'])\n",
    "\n",
    "history = model.fit(X_train, y_train, epochs=50, batch_size=256, validation_split=0.1, callbacks=callbacks)"
   ]
  },
  {
   "cell_type": "code",
   "execution_count": 64,
   "id": "0aeca84f",
   "metadata": {},
   "outputs": [],
   "source": [
    "# save model\n",
    "model.save('model.h5')"
   ]
  },
  {
   "cell_type": "code",
   "execution_count": 447,
   "id": "9aae71ad",
   "metadata": {},
   "outputs": [
    {
     "data": {
      "image/png": "[encoded data removed]",
      "text/plain": [
       "<Figure size 432x288 with 1 Axes>"
      ]
     },
     "metadata": {},
     "output_type": "display_data"
    }
   ],
   "source": [
    "acc, val_acc = history.history['accuracy'], history.history['val_accuracy']\n",
    "loss, val_loss = history.history['loss'], history.history['val_loss']\n",
    "epochs = range(len(acc))\n",
    "\n",
    "# training & validation accuracy\n",
    "sns.lineplot(x=epochs, y=acc, label='Training acc')\n",
    "sns.lineplot(x=epochs, y=val_acc, label='Validation acc')\n",
    "plt.title('Training and validation accuracy')\n",
    "plt.show()\n"
   ]
  },
  {
   "cell_type": "code",
   "execution_count": 448,
   "id": "34c07c53",
   "metadata": {},
   "outputs": [
    {
     "data": {
      "image/png": "[encoded data removed]",
      "text/plain": [
       "<Figure size 432x288 with 1 Axes>"
      ]
     },
     "metadata": {},
     "output_type": "display_data"
    }
   ],
   "source": [
    "# training & validation loss\n",
    "sns.lineplot(x=epochs, y=loss, label='Training acc')\n",
    "sns.lineplot(x=epochs, y=val_loss, label='Validation acc')\n",
    "plt.title('Training and validation loss')\n",
    "plt.show()"
   ]
  },
  {
   "cell_type": "code",
   "execution_count": 66,
   "id": "8ea0edc8",
   "metadata": {},
   "outputs": [
    {
     "data": {
      "text/plain": [
       "0.7207647843485994"
      ]
     },
     "execution_count": 66,
     "metadata": {},
     "output_type": "execute_result"
    }
   ],
   "source": [
    "from sklearn.metrics import accuracy_score\n",
    "y_true = np.argmax(y_test.values, axis=1)\n",
    "y_pred = model.predict(X_test)\n",
    "y_pred = np.argmax(y_pred, axis=1)\n",
    "\n",
    "# classification accuracy\n",
    "accuracy_score(y_true, y_pred)"
   ]
  },
  {
   "cell_type": "code",
   "execution_count": 67,
   "id": "6976d3c7",
   "metadata": {},
   "outputs": [
    {
     "data": {
      "image/png": "[encoded data removed]",
      "text/plain": [
       "<Figure size 432x288 with 2 Axes>"
      ]
     },
     "metadata": {},
     "output_type": "display_data"
    }
   ],
   "source": [
    "from sklearn.metrics import confusion_matrix\n",
    "\n",
    "matrix = confusion_matrix(y_true, y_pred)\n",
    "class_names = ['Negative', 'Neutral', 'Positive']\n",
    "sns.heatmap(matrix, annot=True, xticklabels=class_names,yticklabels=class_names, fmt='g')\n",
    "plt.xlabel('Predicted')\n",
    "plt.ylabel('Truth')\n",
    "plt.show()\n"
   ]
  },
  {
   "cell_type": "code",
   "execution_count": 68,
   "id": "b85b8322",
   "metadata": {},
   "outputs": [
    {
     "name": "stdout",
     "output_type": "stream",
     "text": [
      "              precision    recall  f1-score   support\n",
      "\n",
      "    Negative       0.81      0.82      0.82      6021\n",
      "     Neutral       0.60      0.60      0.60      6070\n",
      "    Positive       0.74      0.74      0.74      5901\n",
      "\n",
      "    accuracy                           0.72     17992\n",
      "   macro avg       0.72      0.72      0.72     17992\n",
      "weighted avg       0.72      0.72      0.72     17992\n",
      "\n"
     ]
    }
   ],
   "source": [
    "from sklearn.metrics import classification_report\n",
    "report = classification_report(y_true, y_pred, target_names=class_names)\n",
    "print(report)\n"
   ]
  }
 ],
 "metadata": {
  "kernelspec": {
   "display_name": "Python 3",
   "language": "python",
   "name": "python3"
  },
  "language_info": {
   "codemirror_mode": {
    "name": "ipython",
    "version": 3
   },
   "file_extension": ".py",
   "mimetype": "text/x-python",
   "name": "python",
   "nbconvert_exporter": "python",
   "pygments_lexer": "ipython3",
   "version": "3.9.7"
  }
 },
 "nbformat": 4,
 "nbformat_minor": 5
}
